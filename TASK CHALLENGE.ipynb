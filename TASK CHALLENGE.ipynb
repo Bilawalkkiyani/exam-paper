{
  "nbformat": 4,
  "nbformat_minor": 0,
  "metadata": {
    "colab": {
      "provenance": [],
      "authorship_tag": "ABX9TyMUD/0wP2uQod/iG++0U8EN",
      "include_colab_link": true
    },
    "kernelspec": {
      "name": "python3",
      "display_name": "Python 3"
    },
    "language_info": {
      "name": "python"
    }
  },
  "cells": [
    {
      "cell_type": "markdown",
      "metadata": {
        "id": "view-in-github",
        "colab_type": "text"
      },
      "source": [
        "<a href=\"https://colab.research.google.com/github/Bilawalkkiyani/exam-paper/blob/main/TASK%20CHALLENGE.ipynb\" target=\"_parent\"><img src=\"https://colab.research.google.com/assets/colab-badge.svg\" alt=\"Open In Colab\"/></a>"
      ]
    },
    {
      "cell_type": "code",
      "execution_count": null,
      "metadata": {
        "colab": {
          "base_uri": "https://localhost:8080/"
        },
        "id": "sejlH9WIsit8",
        "outputId": "c2f93af8-7045-433d-a1c8-877d35ab6851"
      },
      "outputs": [
        {
          "output_type": "stream",
          "name": "stdout",
          "text": [
            "Hello World\n"
          ]
        }
      ],
      "source": [
        "print(\"Hello World\")"
      ]
    },
    {
      "cell_type": "code",
      "source": [
        "#  TASK # 1\n",
        "\n",
        " # prompt: write a hello world in python\n",
        "\n",
        "print(\"Hello World\")\n"
      ],
      "metadata": {
        "colab": {
          "base_uri": "https://localhost:8080/"
        },
        "id": "PGJMkJaCswEF",
        "outputId": "49cff05a-f000-4ffe-a0b7-88855205027b"
      },
      "execution_count": null,
      "outputs": [
        {
          "output_type": "stream",
          "name": "stdout",
          "text": [
            "Hello World\n"
          ]
        }
      ]
    },
    {
      "cell_type": "code",
      "source": [
        "TASK # 2\n",
        "\n",
        "# prompt: Ask the user for their name and display a cool AI-style welcome message.\n",
        "\n",
        "user_name = input(\"What is your name? \")\n",
        "print(f\"Greetings, {user_name}! Welcome to the realm of intelligent algorithms. Your journey into the fascinating world of AI begins now!\")\n"
      ],
      "metadata": {
        "colab": {
          "base_uri": "https://localhost:8080/",
          "height": 211
        },
        "id": "1K4OggHguwQJ",
        "outputId": "9e78dc15-eff1-469e-e175-027aa812e806"
      },
      "execution_count": null,
      "outputs": [
        {
          "output_type": "error",
          "ename": "NameError",
          "evalue": "name 'TASK' is not defined",
          "traceback": [
            "\u001b[0;31m---------------------------------------------------------------------------\u001b[0m",
            "\u001b[0;31mNameError\u001b[0m                                 Traceback (most recent call last)",
            "\u001b[0;32m<ipython-input-14-6e0a738a9641>\u001b[0m in \u001b[0;36m<cell line: 0>\u001b[0;34m()\u001b[0m\n\u001b[0;32m----> 1\u001b[0;31m \u001b[0mTASK\u001b[0m \u001b[0;31m# 2\u001b[0m\u001b[0;34m\u001b[0m\u001b[0;34m\u001b[0m\u001b[0m\n\u001b[0m\u001b[1;32m      2\u001b[0m \u001b[0;34m\u001b[0m\u001b[0m\n\u001b[1;32m      3\u001b[0m \u001b[0;31m# prompt: Ask the user for their name and display a cool AI-style welcome message.\u001b[0m\u001b[0;34m\u001b[0m\u001b[0;34m\u001b[0m\u001b[0m\n\u001b[1;32m      4\u001b[0m \u001b[0;34m\u001b[0m\u001b[0m\n\u001b[1;32m      5\u001b[0m \u001b[0muser_name\u001b[0m \u001b[0;34m=\u001b[0m \u001b[0minput\u001b[0m\u001b[0;34m(\u001b[0m\u001b[0;34m\"What is your name? \"\u001b[0m\u001b[0;34m)\u001b[0m\u001b[0;34m\u001b[0m\u001b[0;34m\u001b[0m\u001b[0m\n",
            "\u001b[0;31mNameError\u001b[0m: name 'TASK' is not defined"
          ]
        }
      ]
    },
    {
      "cell_type": "code",
      "source": [
        "# prompt: \"Hello, World! Welcome to Python Programming. Let's start coding!\"\n",
        "\n",
        "# Existing code (provided in the prompt):\n",
        "# print(\"Hello World\")\n",
        "# print(\"Hello World\")\n",
        "\n",
        "# New code to achieve the task:\n",
        "print(\"Hello, World! Welcome to Python Programming. Let's start coding!\")\n"
      ],
      "metadata": {
        "colab": {
          "base_uri": "https://localhost:8080/"
        },
        "id": "LQsxwW9XtbuW",
        "outputId": "903fb137-4ee9-40eb-de4e-b59b27d272f3"
      },
      "execution_count": null,
      "outputs": [
        {
          "output_type": "stream",
          "name": "stdout",
          "text": [
            "Hello, World! Welcome to Python Programming. Let's start coding!\n"
          ]
        }
      ]
    },
    {
      "cell_type": "code",
      "source": [
        "\n",
        "# prompt: Create a calculator for Addition (+), Subtraction (-), Multiplication (), and Division (/). Let users choose an operation and input two numbers.\n",
        "\n",
        "def calculator():\n",
        "    \"\"\"Performs basic arithmetic operations based on user input.\"\"\"\n",
        "\n",
        "    while True:\n",
        "        print(\"\\nSelect operation:\")\n",
        "        print(\"1. Add (+)\")\n",
        "        print(\"2. Subtract (-)\")\n",
        "        print(\"3. Multiply (*)\")\n",
        "        print(\"4. Divide (/)\")\n",
        "        print(\"5. Exit\")\n",
        "\n",
        "        choice = input(\"Enter choice(1/2/3/4/5): \")\n",
        "\n",
        "        if choice == '5':\n",
        "            break\n",
        "\n",
        "        try:\n",
        "            num1 = float(input(\"Enter first number: \"))\n",
        "            num2 = float(input(\"Enter second number: \"))\n",
        "        except ValueError:\n",
        "            print(\"Invalid input. Please enter numbers only.\")\n",
        "            continue\n",
        "\n",
        "        if choice == '1':\n",
        "            print(num1, \"+\", num2, \"=\", num1 + num2)\n",
        "        elif choice == '2':\n",
        "            print(num1, \"-\", num2, \"=\", num1 - num2)\n",
        "        elif choice == '3':\n",
        "            print(num1, \"*\", num2, \"=\", num1 * num2)\n",
        "        elif choice == '4':\n",
        "            if num2 == 0:\n",
        "                print(\"Division by zero error!\")\n",
        "            else:\n",
        "                print(num1, \"/\", num2, \"=\", num1 / num2)\n",
        "        else:\n",
        "            print(\"Invalid input. Please enter a valid operation number (1/2/3/4/5).\")\n",
        "\n",
        "if __name__ == \"__main__\":\n",
        "    calculator()\n"
      ],
      "metadata": {
        "colab": {
          "base_uri": "https://localhost:8080/"
        },
        "id": "tuzQeCc9v5g2",
        "outputId": "13660f63-8343-4aea-dc09-2780c469ccd1"
      },
      "execution_count": null,
      "outputs": [
        {
          "metadata": {
            "tags": null
          },
          "name": "stdout",
          "output_type": "stream",
          "text": [
            "\n",
            "Select operation:\n",
            "1. Add (+)\n",
            "2. Subtract (-)\n",
            "3. Multiply (*)\n",
            "4. Divide (/)\n",
            "5. Exit\n"
          ]
        }
      ]
    },
    {
      "cell_type": "code",
      "source": [
        "# prompt: Create a simple program that checks whether a number is Even or Odd.\n",
        "\n",
        "def even_odd():\n",
        "    \"\"\"Checks whether a number is even or odd.\"\"\"\n",
        "    try:\n",
        "        num = int(input(\"Enter an integer: \"))\n",
        "        if num % 2 == 0:\n",
        "            print(f\"{num} is even.\")\n",
        "        else:\n",
        "            print(f\"{num} is odd.\")\n",
        "    except ValueError:\n",
        "        print(\"Invalid input. Please enter an integer.\")\n",
        "\n",
        "if __name__ == \"__main__\":\n",
        "    even_odd()\n"
      ],
      "metadata": {
        "id": "uvcJKj_Iwmrh"
      },
      "execution_count": null,
      "outputs": []
    },
    {
      "cell_type": "code",
      "source": [
        "# prompt: Create a simple number guessing game where the user has to guess a randomly generated number.\n",
        "\n",
        "import random\n",
        "\n",
        "def guess_the_number():\n",
        "    \"\"\"Plays a number guessing game with the user.\"\"\"\n",
        "\n",
        "    secret_number = random.randint(1, 100)\n",
        "    guesses_left = 7\n",
        "\n",
        "    print(\"Welcome to the Number Guessing Game!\")\n",
        "    print(\"I'm thinking of a number between 1 and 100.\")\n",
        "\n",
        "    while guesses_left > 0:\n",
        "        try:\n",
        "            guess = int(input(f\"You have {guesses_left} guesses left. Take a guess: \"))\n",
        "        except ValueError:\n",
        "            print(\"Invalid input. Please enter a number.\")\n",
        "            continue\n",
        "\n",
        "        if guess < secret_number:\n",
        "            print(\"Too low!\")\n",
        "        elif guess > secret_number:\n",
        "            print(\"Too high!\")\n",
        "        else:\n",
        "            print(f\"Congratulations! You guessed the number in {7 - guesses_left} tries!\")\n",
        "            return\n",
        "\n",
        "        guesses_left -= 1\n",
        "\n",
        "    print(f\"You ran out of guesses. The number was {secret_number}.\")\n",
        "\n",
        "if __name__ == \"__main__\":\n",
        "    guess_the_number()\n"
      ],
      "metadata": {
        "id": "OWzRo1LqxB4w"
      },
      "execution_count": null,
      "outputs": []
    },
    {
      "cell_type": "code",
      "source": [
        "# prompt: Create a random password generator that generates strong passwords.\n",
        "\n",
        "import random\n",
        "import string\n",
        "\n",
        "def generate_password(length=12, include_uppercase=True, include_lowercase=True, include_digits=True, include_symbols=True):\n",
        "    \"\"\"Generates a random password with customizable complexity.\"\"\"\n",
        "\n",
        "    characters = \"\"\n",
        "    if include_uppercase:\n",
        "        characters += string.ascii_uppercase\n",
        "    if include_lowercase:\n",
        "        characters += string.ascii_lowercase\n",
        "    if include_digits:\n",
        "        characters += string.digits\n",
        "    if include_symbols:\n",
        "        characters += string.punctuation  # Includes symbols like !@#$%^&*()\n",
        "\n",
        "    if not characters:\n",
        "        print(\"Error: At least one character set must be selected.\")\n",
        "        return None\n",
        "\n",
        "    password = ''.join(random.choice(characters) for _ in range(length))\n",
        "    return password\n",
        "\n",
        "# Example usage:\n",
        "password = generate_password()\n",
        "if password:\n",
        "    print(\"Generated password:\", password)\n"
      ],
      "metadata": {
        "id": "aqjtWnbnxc8F"
      },
      "execution_count": null,
      "outputs": []
    },
    {
      "cell_type": "code",
      "source": [],
      "metadata": {
        "id": "sPM-3Ua7yEN-"
      },
      "execution_count": null,
      "outputs": []
    },
    {
      "cell_type": "code",
      "source": [],
      "metadata": {
        "id": "9S1yPu6Zyo6S"
      },
      "execution_count": null,
      "outputs": []
    }
  ]
}