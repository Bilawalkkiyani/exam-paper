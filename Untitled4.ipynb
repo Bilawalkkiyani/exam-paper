{
  "nbformat": 4,
  "nbformat_minor": 0,
  "metadata": {
    "colab": {
      "provenance": [],
      "authorship_tag": "ABX9TyOjJ3aINFz4eq4MHvcEV6M2",
      "include_colab_link": true
    },
    "kernelspec": {
      "name": "python3",
      "display_name": "Python 3"
    },
    "language_info": {
      "name": "python"
    }
  },
  "cells": [
    {
      "cell_type": "markdown",
      "metadata": {
        "id": "view-in-github",
        "colab_type": "text"
      },
      "source": [
        "<a href=\"https://colab.research.google.com/github/Bilawalkkiyani/exam-paper/blob/main/Untitled4.ipynb\" target=\"_parent\"><img src=\"https://colab.research.google.com/assets/colab-badge.svg\" alt=\"Open In Colab\"/></a>"
      ]
    },
    {
      "cell_type": "code",
      "execution_count": 1,
      "metadata": {
        "colab": {
          "base_uri": "https://localhost:8080/"
        },
        "id": "sejlH9WIsit8",
        "outputId": "ff0d2b41-e949-4995-86b0-2b2c08c51e82"
      },
      "outputs": [
        {
          "output_type": "stream",
          "name": "stdout",
          "text": [
            "Hello World\n"
          ]
        }
      ],
      "source": [
        "print(\"Hello World\")"
      ]
    },
    {
      "cell_type": "code",
      "source": [
        "# prompt: write a hello world in python\n",
        "\n",
        "print(\"Hello World\")\n"
      ],
      "metadata": {
        "colab": {
          "base_uri": "https://localhost:8080/"
        },
        "id": "PGJMkJaCswEF",
        "outputId": "331b119a-4c91-496f-f5b6-b9ec4cf11bca"
      },
      "execution_count": 2,
      "outputs": [
        {
          "output_type": "stream",
          "name": "stdout",
          "text": [
            "Hello World\n"
          ]
        }
      ]
    },
    {
      "cell_type": "code",
      "source": [
        "# prompt: \"Hello, World! Welcome to Python Programming. Let's start coding!\"\n",
        "\n",
        "# Existing code (provided in the prompt):\n",
        "# print(\"Hello World\")\n",
        "# print(\"Hello World\")\n",
        "\n",
        "# New code to achieve the task:\n",
        "print(\"Hello, World! Welcome to Python Programming. Let's start coding!\")\n"
      ],
      "metadata": {
        "colab": {
          "base_uri": "https://localhost:8080/"
        },
        "id": "LQsxwW9XtbuW",
        "outputId": "61bc6a0d-3870-4251-99a7-2bd7cd062308"
      },
      "execution_count": 3,
      "outputs": [
        {
          "output_type": "stream",
          "name": "stdout",
          "text": [
            "Hello, World! Welcome to Python Programming. Let's start coding!\n"
          ]
        }
      ]
    }
  ]
}